{
 "cells": [
  {
   "cell_type": "code",
   "execution_count": 12,
   "id": "6aeb93af-9b0b-4991-8f8c-7b273a8d4821",
   "metadata": {},
   "outputs": [
    {
     "name": "stdout",
     "output_type": "stream",
     "text": [
      "[2, 'puneet', 4.0, 6, 7, 8] <class 'list'>\n"
     ]
    }
   ],
   "source": [
    "l=[2,\"puneet\",4.0,6,7,8]\n",
    "print(l,type(l))"
   ]
  },
  {
   "cell_type": "code",
   "execution_count": 13,
   "id": "6b6e2997-ed37-40a6-be4a-6fcc46172835",
   "metadata": {},
   "outputs": [
    {
     "name": "stdout",
     "output_type": "stream",
     "text": [
      "140071533685072\n",
      "140071533685104\n",
      "140071533685072\n"
     ]
    }
   ],
   "source": [
    "var=2\n",
    "print(id(var))\n",
    "var=3\n",
    "print(id(var))\n",
    "var2=2\n",
    "print(id(var2))"
   ]
  },
  {
   "cell_type": "code",
   "execution_count": 14,
   "id": "67814540-1d02-4ef5-bc1a-dddc0093b353",
   "metadata": {},
   "outputs": [
    {
     "name": "stdout",
     "output_type": "stream",
     "text": [
      "puneet 8\n",
      "[8, 7, 6, 4.0, 'puneet', 2]\n",
      "['puneet', 6, 8]\n"
     ]
    }
   ],
   "source": [
    "#access the list\n",
    "\"\"\"\n",
    "1)indexing\n",
    "2)negative index\n",
    "3) loop\n",
    "4)range\n",
    "5) slicing\n",
    "\"\"\"\n",
    "print(l[1],l[-1])\n",
    "print(l[-1::-1])#start,end,step\n",
    "print(l[1::2])"
   ]
  },
  {
   "cell_type": "code",
   "execution_count": 16,
   "id": "9db2fe92-651c-4eb3-9cac-b089a7800083",
   "metadata": {},
   "outputs": [
    {
     "name": "stdout",
     "output_type": "stream",
     "text": [
      "[1, 2, 3, 4]\n",
      "[1, 2, 1, 2]\n"
     ]
    }
   ],
   "source": [
    "#operations\n",
    "l=[1,2]\n",
    "l2=[3,4]\n",
    "print(l+l2)#concat\n",
    "print(l*2)"
   ]
  },
  {
   "cell_type": "code",
   "execution_count": 20,
   "id": "70861b72-ccaa-426c-bc9a-d777d4ce7cff",
   "metadata": {},
   "outputs": [
    {
     "name": "stdout",
     "output_type": "stream",
     "text": [
      "[1, 100, 100, 100]\n",
      "[1, 100, 100]\n"
     ]
    }
   ],
   "source": [
    "#methods\n",
    "#append\n",
    "l.append(100)\n",
    "print(l)\n",
    "l.pop(1)\n",
    "print(l)\n",
    "l.remove(100)\n"
   ]
  },
  {
   "cell_type": "code",
   "execution_count": 22,
   "id": "3b3d75c5-7b47-459f-a29d-4ee8ab8a7930",
   "metadata": {},
   "outputs": [
    {
     "name": "stdout",
     "output_type": "stream",
     "text": [
      "[123, 45, 65]\n"
     ]
    }
   ],
   "source": [
    "l=[123]\n",
    "l2=[45,65]\n",
    "l.extend(l2)\n",
    "print(l)\n"
   ]
  },
  {
   "cell_type": "code",
   "execution_count": 23,
   "id": "4ebce0d8-af2d-49c7-b88d-01cc95f27ac5",
   "metadata": {},
   "outputs": [
    {
     "name": "stdout",
     "output_type": "stream",
     "text": [
      "[123, 45, 65, [45, 65]]\n"
     ]
    }
   ],
   "source": [
    "l.append(l2)\n",
    "print(l)"
   ]
  },
  {
   "cell_type": "code",
   "execution_count": 25,
   "id": "6bed17a4-323b-4d42-b306-e771bdf7accb",
   "metadata": {},
   "outputs": [
    {
     "name": "stdout",
     "output_type": "stream",
     "text": [
      "(1, 2, 3) <class 'tuple'>\n",
      "(1, 1, 1, 1)\n"
     ]
    }
   ],
   "source": [
    "#tuple- immutable ordered duplicacy\n",
    "t=(1,2,3)\n",
    "print(t,type(t))\n",
    "t1=(1,1,1,1)\n",
    "print(t1)"
   ]
  },
  {
   "cell_type": "code",
   "execution_count": 29,
   "id": "6b7365f7-f4a5-4ed3-a18b-1ea254622ae9",
   "metadata": {},
   "outputs": [
    {
     "name": "stdout",
     "output_type": "stream",
     "text": [
      "{2}\n",
      "{2, 'puneet'}\n"
     ]
    }
   ],
   "source": [
    "s={2,2,2}#- unordered, no duplicacy, mutable\n",
    "print(s)\n",
    "s={2,\"puneet\"}\n",
    "print(s)"
   ]
  },
  {
   "cell_type": "code",
   "execution_count": 30,
   "id": "38ad7ade-437c-40b9-a3d5-b89286de4810",
   "metadata": {},
   "outputs": [
    {
     "name": "stdout",
     "output_type": "stream",
     "text": [
      "{'key': 'value', 2: 'two'}\n"
     ]
    }
   ],
   "source": [
    "#dictionary-mutable-ordreed no duplicacy\n",
    "d={\"key\":\"value\",2:\"two\"}\n",
    "print(d)\n"
   ]
  },
  {
   "cell_type": "code",
   "execution_count": null,
   "id": "5018e948-6700-4e42-a623-965927845053",
   "metadata": {},
   "outputs": [],
   "source": []
  }
 ],
 "metadata": {
  "kernelspec": {
   "display_name": "Python 3 (ipykernel)",
   "language": "python",
   "name": "python3"
  },
  "language_info": {
   "codemirror_mode": {
    "name": "ipython",
    "version": 3
   },
   "file_extension": ".py",
   "mimetype": "text/x-python",
   "name": "python",
   "nbconvert_exporter": "python",
   "pygments_lexer": "ipython3",
   "version": "3.9.12"
  }
 },
 "nbformat": 4,
 "nbformat_minor": 5
}
